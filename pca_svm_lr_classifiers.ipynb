{
 "cells": [
  {
   "cell_type": "markdown",
   "metadata": {},
   "source": [
    "# Dimensionality Reduction and Binary Classifiers \n",
    "\n",
    "This exercise shows how dimensionality reduction (PCA) affects the accuracy of SVM and Logistic Regression classifiers\n",
    "\n",
    "The data set is from UCI Machine Learning Repository\n",
    "\n",
    "https://archive.ics.uci.edu/ml/datasets/Breast+Cancer+Wisconsin+%28Diagnostic%29\n",
    "\n",
    "Title: Wisconsin Diagnostic Breast Cancer\n",
    "    \n",
    "Features are computed from a digitized image of a fine needle aspirate (FNA) of a breast mass.  \n",
    "They describe characteristics of the cell nuclei present in the image.\n",
    "568 observations. Diagnosis: benign or malignant\n",
    "\n",
    "Column 1 = class label (malignant), 0 (benign)\n",
    "Columns 2-31 = 30 features\n",
    "31 features and 2 class labels  \n"
   ]
  },
  {
   "cell_type": "code",
   "execution_count": 1,
   "metadata": {
    "scrolled": true
   },
   "outputs": [
    {
     "data": {
      "text/plain": [
       "(568, 31)"
      ]
     },
     "execution_count": 1,
     "metadata": {},
     "output_type": "execute_result"
    }
   ],
   "source": [
    "import numpy as np\n",
    "import pandas as pd\n",
    "import matplotlib.pyplot as plt\n",
    "from sklearn import decomposition\n",
    "from sklearn.model_selection import train_test_split\n",
    "from sklearn import svm\n",
    "from sklearn.linear_model import LogisticRegression\n",
    "from sklearn.model_selection import cross_val_score\n",
    "\n",
    "# Import data set\n",
    "df = pd.read_csv('data_wdbc.csv')\n",
    "df = df.values\n",
    "\n",
    "X_df = df[:,1:]\n",
    "y = df[:,0]\n",
    "\n",
    "np.random.seed(1)\n",
    "df.shape"
   ]
  },
  {
   "cell_type": "code",
   "execution_count": 2,
   "metadata": {
    "scrolled": true
   },
   "outputs": [
    {
     "name": "stdout",
     "output_type": "stream",
     "text": [
      "(568, 5)\n",
      "(568, 10)\n",
      "(568, 15)\n",
      "(568, 20)\n",
      "(568, 25)\n",
      "(568, 30)\n"
     ]
    }
   ],
   "source": [
    "\"\"\"\n",
    "  1. Dimensionality reduction with different number of principal components\n",
    "  2. Split 80/20 training/test sets\n",
    "  3. Perform 5-fold cross validation\n",
    "  4. Find the average accuracy scores\n",
    "\"\"\"\n",
    "\n",
    "k_comp = [5, 10, 15, 20, 25, 30]  # number of pc's\n",
    "clf_mean_scores = []\n",
    "model2_mean_scores = []\n",
    "\n",
    "for comp in k_comp:\n",
    "    pca = decomposition.PCA(n_components=comp).fit(X_df)\n",
    "    X = pca.transform(X_df)\n",
    "    print(X.shape)\n",
    "    X_train, X_test, y_train, y_test = train_test_split(X, y, test_size=0.2, random_state=1)\n",
    "    \n",
    "    ## SVM\n",
    "    clf = svm.SVC(kernel='linear', C=1)\n",
    "    scores = cross_val_score(clf, X_train, y_train, cv=5)\n",
    "    clf_mean_scores.append(np.mean(scores))\n",
    "\n",
    "    ## Logistic Regression\n",
    "    model2 = LogisticRegression()\n",
    "    scores = cross_val_score(model2, X_train, y_train, cv=5)\n",
    "    model2_mean_scores.append(np.mean(scores))\n",
    "    "
   ]
  },
  {
   "cell_type": "code",
   "execution_count": 3,
   "metadata": {},
   "outputs": [
    {
     "name": "stdout",
     "output_type": "stream",
     "text": [
      "5 0.9428985507246377 0.9428985507246377\n",
      "10 0.9493719806763286 0.9471980676328503\n",
      "15 0.9603864734299516 0.9472463768115942\n",
      "20 0.96256038647343 0.9515942028985508\n",
      "25 0.96256038647343 0.9472463768115942\n",
      "30 0.96256038647343 0.9472463768115942\n"
     ]
    }
   ],
   "source": [
    "# Compare SVM and logistic regression accuracy for different number of principal components\n",
    "for i in range(len(k_comp)):\n",
    "    print(k_comp[i],clf_mean_scores[i],model2_mean_scores[i])"
   ]
  },
  {
   "cell_type": "code",
   "execution_count": 4,
   "metadata": {},
   "outputs": [
    {
     "data": {
      "image/png": "[encoded data removed]",
      "text/plain": [
       "<Figure size 432x288 with 1 Axes>"
      ]
     },
     "metadata": {},
     "output_type": "display_data"
    }
   ],
   "source": [
    "\n",
    "# Plot the results\n",
    "\n",
    "import matplotlib.pyplot as plt\n",
    "plt.ylim(0.93,0.97)\n",
    "plt.plot(k_comp, clf_mean_scores,'b.', label='SVM')\n",
    "plt.plot(k_comp, model2_mean_scores, 'r.', label='Logistic regression')\n",
    "plt.xlabel('Number of principal components')\n",
    "plt.ylabel('Accuracies')\n",
    "plt.legend()\n",
    "plt.show()"
   ]
  },
  {
   "cell_type": "code",
   "execution_count": null,
   "metadata": {},
   "outputs": [],
   "source": []
  }
 ],
 "metadata": {
  "anaconda-cloud": {},
  "kernelspec": {
   "display_name": "Python 3",
   "language": "python",
   "name": "python3"
  },
  "language_info": {
   "codemirror_mode": {
    "name": "ipython",
    "version": 3
   },
   "file_extension": ".py",
   "mimetype": "text/x-python",
   "name": "python",
   "nbconvert_exporter": "python",
   "pygments_lexer": "ipython3",
   "version": "3.6.5"
  }
 },
 "nbformat": 4,
 "nbformat_minor": 2
}
